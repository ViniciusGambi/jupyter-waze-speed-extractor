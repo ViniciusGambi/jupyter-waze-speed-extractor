{
  "nbformat": 4,
  "nbformat_minor": 0,
  "metadata": {
    "colab": {
      "name": "extract-speed-from-waze.ipynb",
      "provenance": [],
      "collapsed_sections": []
    },
    "kernelspec": {
      "name": "python3",
      "display_name": "Python 3"
    }
  },
  "cells": [
    {
      "cell_type": "markdown",
      "metadata": {
        "id": "LefNljydNeb7",
        "colab_type": "text"
      },
      "source": [
        "First, install tesseract on Colab Notebook, the OCR library that our script will use to extract the data."
      ]
    },
    {
      "cell_type": "code",
      "metadata": {
        "id": "ssB-IQhZwazm",
        "colab_type": "code",
        "colab": {}
      },
      "source": [
        "!sudo apt install tesseract-ocr\n",
        "!pip install pytesseract"
      ],
      "execution_count": 0,
      "outputs": []
    },
    {
      "cell_type": "markdown",
      "metadata": {
        "id": "X2Sk_ZwpOZ-7",
        "colab_type": "text"
      },
      "source": [
        "Import the libraries that we'll use on the script and put the extractor class (class that makes work happen) on the script."
      ]
    },
    {
      "cell_type": "code",
      "metadata": {
        "id": "ekjuRqaIQDAn",
        "colab_type": "code",
        "colab": {}
      },
      "source": [
        "import cv2\n",
        "import numpy as np\n",
        "import pandas as pd\n",
        "import pytesseract\n",
        "import matplotlib.pyplot as plt\n",
        "from google.colab.patches import cv2_imshow\n",
        "import random\n",
        "import json\n",
        "\n",
        "class SpeedExtractor:\n",
        "  def __init__(self, video_file):\n",
        "    self.video_file = video_file\n",
        "    self.capture = cv2.VideoCapture(video_file)\n",
        "    self.data_array = []\n",
        "\n",
        "  def get_frames_quantity(self):\n",
        "    return self.capture.get(cv2.CAP_PROP_FRAME_COUNT)\n",
        "\n",
        "  def set_capture_to_frame(self, frame):\n",
        "    self.capture.set(cv2.CAP_PROP_POS_FRAMES, frame)\n",
        "  \n",
        "  def get_random_frame(self):\n",
        "    current_frame_position = self.capture.get(cv2.CAP_PROP_POS_FRAMES)\n",
        "    random_frame_position = random.randint(0, self.get_frames_quantity())\n",
        "    self.set_capture_to_frame(random_frame_position)\n",
        "    success, image = self.capture.read()\n",
        "    self.set_capture_to_frame(current_frame_position)\n",
        "    return image\n",
        "\n",
        "  def set_roi(self, x0, x1, y0, y1):   #region of interest\n",
        "    self.x0 = x0\n",
        "    self.x1 = x1\n",
        "    self.y0 = y0\n",
        "    self.y1 = y1\n",
        "\n",
        "  def get_roi(self, image):   #region of interest\n",
        "    return image[self.y0:self.y1, self.x0:self.x1]\n",
        "\n",
        "  def pre_process_image(self, image):\n",
        "    image = cv2.cvtColor(image, cv2.COLOR_BGR2GRAY)\n",
        "    kernel = np.ones((1, 1), np.uint8)\n",
        "    image = cv2.dilate(image, kernel, iterations=1)\n",
        "    image = cv2.erode(image, kernel, iterations=1)\n",
        "    ret, image = cv2.threshold(image, 130, 255, cv2.THRESH_BINARY_INV)\n",
        "    return image\n",
        "\n",
        "  def get_speed_from_image(self, image):\n",
        "    speed = pytesseract.image_to_string(image, config='--psm 10 --oem 3 digits')\n",
        "    try:\n",
        "      speed = int(speed)\n",
        "    except:\n",
        "      speed = ''\n",
        "    return speed\n",
        "\n",
        "  def extract_speed(self, frame):\n",
        "    roi = self.get_roi(frame)\n",
        "    pre_processed_roi = self.pre_process_image(roi)\n",
        "    speed = self.get_speed_from_image(pre_processed_roi)\n",
        "    return speed, pre_processed_roi\n",
        "\n",
        "  def export_xls(self, filename):\n",
        "    print(self.data_array)\n",
        "    pd.read_json(json.dumps(self.data_array)).to_excel(filename + \".xlsx\")\n",
        "\n",
        "  def run(self, interval, decimal_digits):\n",
        "    last_time = 0.0\n",
        "    self.set_capture_to_frame(0)\n",
        "    while self.capture.isOpened():\n",
        "      ret, current_frame = self.capture.read()\n",
        "      if ret:\n",
        "        time = self.capture.get(cv2.CAP_PROP_POS_MSEC)/1000\n",
        "        if time - last_time > interval:\n",
        "          speed, analyzed_image = extractor.extract_speed(current_frame)\n",
        "          print(\"-------------\")\n",
        "          cv2_imshow(analyzed_image)\n",
        "          \n",
        "          rounded_time = round(time, decimal_digits)\n",
        "          print(\"Time:\", rounded_time)\n",
        "          print(\"Speed:\", speed)\n",
        "\n",
        "          data_object = {\n",
        "            'time': rounded_time,\n",
        "            'speed': speed\n",
        "          }\n",
        "          self.data_array.append(data_object)\n",
        "          \n",
        "          last_time = time\n",
        "        cv2.waitKey(1) & 0xff\n",
        "      else:\n",
        "        break\n",
        "    print(\"-- JSON DATA REPORT --\")\n",
        "    print(self.data_array)\n",
        "\n",
        "print(\"OK!\")"
      ],
      "execution_count": 0,
      "outputs": []
    },
    {
      "cell_type": "markdown",
      "metadata": {
        "id": "6s1MdJkPOJ27",
        "colab_type": "text"
      },
      "source": [
        "Put the video that will be taken the data on the (colab) notebook. Just drag the video to the file section on the left side and wait to upload.\n",
        "<br/>\n",
        "![How to import file on notebook](https://github.com/ViniciusGambi/jupyter-waze-speed-extractor/blob/master/.github/import.JPG?raw=true)"
      ]
    },
    {
      "cell_type": "markdown",
      "metadata": {
        "id": "5oA3I70nU8BB",
        "colab_type": "text"
      },
      "source": [
        "Change the file name on the SpeedExtractor. After run cell you should be able to see a random frame of the video, otherwise, the script was unable to access the file. Make sure the file has been uploaded, ensuring that a random frame is displayed."
      ]
    },
    {
      "cell_type": "code",
      "metadata": {
        "id": "NKI0IWPGPhEB",
        "colab_type": "code",
        "colab": {}
      },
      "source": [
        "extractor = SpeedExtractor('file_example.mp4')\n",
        "\n",
        "first_frame = extractor.get_random_frame()\n",
        "graph = plt.imshow(cv2.cvtColor(first_frame, cv2.COLOR_BGR2RGB))"
      ],
      "execution_count": 0,
      "outputs": []
    },
    {
      "cell_type": "markdown",
      "metadata": {
        "id": "O21Vjz3-WuxZ",
        "colab_type": "text"
      },
      "source": [
        "Place x0, x1, y0 and y1 coordinates of the image area that contains only the speed in the frame, in their respective variables. You can run this cell many times until you find the perfect coordinates. The image below shows what a perfect return would look like.\n",
        "<br/>\n",
        "![Goal Image](https://github.com/ViniciusGambi/jupyter-waze-speed-extractor/blob/master/.github/example.png?raw=true)\n",
        "\n"
      ]
    },
    {
      "cell_type": "code",
      "metadata": {
        "id": "FbIgDqcoQH1f",
        "colab_type": "code",
        "colab": {}
      },
      "source": [
        "x0 = 55\n",
        "x1 = 136\n",
        "y0 = 1109\n",
        "y1 = 1170\n",
        "\n",
        "first_frame = extractor.get_random_frame()\n",
        "extractor.set_roi(x0, x1, y0, y1)\n",
        "first_frame_roi = extractor.get_roi(first_frame)\n",
        "height, width, channels = first_frame.shape\n",
        "print(\"Frame dimensions:\", width, height)\n",
        "cv2_imshow(first_frame_roi)"
      ],
      "execution_count": 0,
      "outputs": []
    },
    {
      "cell_type": "markdown",
      "metadata": {
        "id": "aIPLeB7XhfEo",
        "colab_type": "text"
      },
      "source": [
        "Adjust the interval of time you want in your data and a quantity of decimal digits you want to have on time attribute. Then run the cell and wait until all the video be analyzed."
      ]
    },
    {
      "cell_type": "code",
      "metadata": {
        "id": "Q0NkRZVONsJf",
        "colab_type": "code",
        "colab": {}
      },
      "source": [
        "extract_interval =  0.1\n",
        "decimal_digits_of_time = 1\n",
        "\n",
        "extractor.run(extract_interval, decimal_digits_of_time)"
      ],
      "execution_count": 0,
      "outputs": []
    },
    {
      "cell_type": "markdown",
      "metadata": {
        "id": "5wgWRp5TGWaE",
        "colab_type": "text"
      },
      "source": [
        "Run this cell to export data to a .xls (excel file). Change filename however you want."
      ]
    },
    {
      "cell_type": "code",
      "metadata": {
        "id": "w6OY5J-jvySH",
        "colab_type": "code",
        "colab": {}
      },
      "source": [
        "extractor.export_xls('filename')"
      ],
      "execution_count": 0,
      "outputs": []
    },
    {
      "cell_type": "markdown",
      "metadata": {
        "id": "tFsDamfNXPey",
        "colab_type": "text"
      },
      "source": [
        "Refresh Files and download the XLS file. (Right Click on xls file and download)\n",
        "<br/>\n",
        "![](https://github.com/ViniciusGambi/jupyter-waze-speed-extractor/blob/master/.github/download.JPG?raw=true)"
      ]
    },
    {
      "cell_type": "markdown",
      "metadata": {
        "id": "-tNqFVG3ZK4N",
        "colab_type": "text"
      },
      "source": [
        "Ready! If you made it this far you will have something like this.\n",
        "<br/>\n",
        "![XLS File](https://github.com/ViniciusGambi/jupyter-waze-speed-extractor/blob/master/.github/spreadsheet.JPG?raw=true)"
      ]
    },
    {
      "cell_type": "markdown",
      "metadata": {
        "id": "CQJ9U9qCaHqf",
        "colab_type": "text"
      },
      "source": [
        "Now you can manipulate this data however you need, filtering, plotting etc!\n",
        "<br/>\n",
        "![Plot example](https://github.com/ViniciusGambi/jupyter-waze-speed-extractor/blob/master/.github/calibration.png?raw=true)"
      ]
    },
    {
      "cell_type": "markdown",
      "metadata": {
        "id": "N8QKzOQhg1sa",
        "colab_type": "text"
      },
      "source": [
        "I hope this can help you! \n",
        "\n",
        "<br/>\n",
        "Developed by Vinicius Gambi."
      ]
    }
  ]
}